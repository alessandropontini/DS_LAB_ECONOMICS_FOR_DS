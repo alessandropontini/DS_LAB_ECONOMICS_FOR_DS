{
  "nbformat": 4,
  "nbformat_minor": 0,
  "metadata": {
    "colab": {
      "name": "Logistic_Regression_DEF.ipynb",
      "provenance": [],
      "collapsed_sections": [],
      "authorship_tag": "ABX9TyNGSwRG2Fxf20nkoQtFAck6",
      "include_colab_link": true
    },
    "kernelspec": {
      "name": "python3",
      "display_name": "Python 3"
    },
    "language_info": {
      "name": "python"
    }
  },
  "cells": [
    {
      "cell_type": "markdown",
      "metadata": {
        "id": "view-in-github",
        "colab_type": "text"
      },
      "source": [
        "<a href=\"https://colab.research.google.com/github/god-data-unimib/DS_LAB_ECONOMICS_FOR_DS/blob/main/Logistic_Regression_DEF.ipynb\" target=\"_parent\"><img src=\"https://colab.research.google.com/assets/colab-badge.svg\" alt=\"Open In Colab\"/></a>"
      ]
    },
    {
      "cell_type": "markdown",
      "metadata": {
        "id": "KHEpUznAYpJu"
      },
      "source": [
        "IMPORT LIBRARIES"
      ]
    },
    {
      "cell_type": "code",
      "metadata": {
        "id": "2Imp-OnoYaWV"
      },
      "source": [
        "import numpy as np\n",
        "import pandas as pd\n",
        "import matplotlib.pyplot as plt\n",
        "import seaborn as sns\n",
        "\n",
        "\n",
        "#from pycaret.utils import enable_colab\n",
        "#enable_colab()\n",
        "#from pycaret.classification import *\n",
        "\n",
        "from statsmodels.multivariate.manova import MANOVA\n",
        "from statsmodels.stats.outliers_influence import variance_inflation_factor\n",
        "import statsmodels.api as sm\n",
        "import statsmodels.formula.api as smf\n",
        "from statsmodels.graphics.gofplots import qqplot\n",
        "from statsmodels.graphics.tsaplots import plot_acf\n",
        "from imblearn.over_sampling import SMOTE\n",
        "\n",
        "from sklearn.linear_model import LinearRegression, Ridge\n",
        "from sklearn.model_selection import train_test_split, RepeatedStratifiedKFold, GridSearchCV\n",
        "from sklearn.linear_model import LogisticRegression, LogisticRegressionCV\n",
        "from sklearn.metrics import accuracy_score,recall_score,precision_score,f1_score, make_scorer, classification_report, confusion_matrix\n",
        "from sklearn.naive_bayes import GaussianNB\n",
        "from sklearn.ensemble import RandomForestClassifier\n",
        "from sklearn.preprocessing import StandardScaler\n",
        "\n",
        "# allow plots to appear directly in the notebook\n",
        "%matplotlib inline"
      ],
      "execution_count": 18,
      "outputs": []
    },
    {
      "cell_type": "code",
      "metadata": {
        "id": "K2UL3xE4Y3hK"
      },
      "source": [
        "def calc_vif(X):\n",
        "\n",
        "    # Calculating VIF\n",
        "    vif = pd.DataFrame()\n",
        "    vif[\"variables\"] = X.columns\n",
        "    vif[\"VIF\"] = [variance_inflation_factor(X.values, i) for i in range(X.shape[1])]\n",
        "\n",
        "    return(vif)"
      ],
      "execution_count": 19,
      "outputs": []
    },
    {
      "cell_type": "markdown",
      "metadata": {
        "id": "gDEpFucXYtnn"
      },
      "source": [
        "PRE-PROCESSING"
      ]
    },
    {
      "cell_type": "code",
      "metadata": {
        "id": "OtcnNZ1pYsss"
      },
      "source": [
        "url = 'https://raw.githubusercontent.com/god-data-unimib/DS_LAB_ECONOMICS_FOR_DS/main/dataset1/telecom_users.csv'\n",
        "df = pd.read_csv(url)\n",
        "df = df.drop(columns=['customerID', 'Unnamed: 0'])\n",
        "df['gender'] = df['gender'].replace({'Male': 0, 'Female':1})\n",
        "df['Partner'] = df['Partner'].replace({'No': 0, 'Yes':1})\n",
        "df['Dependents'] = df['Dependents'].replace({'No': 0, 'Yes':1})\n",
        "df['PhoneService'] = df['PhoneService'].replace({'No': 0, 'Yes':1})\n",
        "df['MultipleLines'] = df['MultipleLines'].replace({'No': 0, 'Yes':1, 'No phone service' : 3})\n",
        "df['InternetService'] = df['InternetService'].replace({1: 0, 2: 1, 3: 2})\n",
        "df['OnlineSecurity'] = df['OnlineSecurity'].replace({'No': 0, 'Yes': 1, 'No internet service': 2})\n",
        "df['OnlineBackup'] = df['OnlineBackup'].replace({'No': 0, 'Yes': 1, 'No internet service': 2})\n",
        "df['DeviceProtection'] = df['DeviceProtection'].replace({'No': 0, 'Yes': 1, 'No internet service': 2})\n",
        "df['TechSupport'] = df['TechSupport'].replace({'No': 0, 'Yes': 1, 'No internet service': 2})\n",
        "df['StreamingTV'] = df['StreamingTV'].replace({'No': 0, 'Yes': 1, 'No internet service': 2})\n",
        "df['StreamingMovies'] = df['StreamingMovies'].replace({'No': 0, 'Yes': 1, 'No internet service': 2})\n",
        "df['PaperlessBilling'] = df['PaperlessBilling'].replace({'No': 0, 'Yes':1})\n",
        "df['InternetService'] = df['InternetService'].replace({'No': 0, 'Fiber optic': 1, 'DSL': 2})\n",
        "df['Contract'] = df['Contract'].replace({'Two year': 0, 'Month-to-month': 1, 'One year': 2})\n",
        "df['PaymentMethod'] = df['PaymentMethod'].replace({'Credit card (automatic)': 0, 'Bank transfer (automatic)': 1, 'Electronic check': 2, 'Mailed check': 3})\n",
        "df['Churn'] = df['Churn'].replace({'No': 0, 'Yes':1})\n",
        "df = df.dropna()\n",
        "df['TotalCharges'] = pd.to_numeric(df['TotalCharges'],errors='coerce')\n",
        "df['TotalCharges'] = df['TotalCharges'].fillna(df['TotalCharges'].mean())"
      ],
      "execution_count": 20,
      "outputs": []
    },
    {
      "cell_type": "markdown",
      "metadata": {
        "id": "PblFqQqaZQJz"
      },
      "source": [
        "BUSINESS APPROACH"
      ]
    },
    {
      "cell_type": "markdown",
      "metadata": {
        "id": "WBeiiZhuZSen"
      },
      "source": [
        "ELIMINATE COLUMNS DESCRIPTIVE ANALYSIS"
      ]
    },
    {
      "cell_type": "code",
      "metadata": {
        "id": "WwW8MXsHY3Ed"
      },
      "source": [
        "df.drop(columns=['gender','PhoneService','MultipleLines', 'InternetService','OnlineSecurity', 'OnlineBackup', 'DeviceProtection', \"TechSupport\",\n",
        "                 \"StreamingTV\",\"StreamingMovies\" ], inplace=True)"
      ],
      "execution_count": 21,
      "outputs": []
    },
    {
      "cell_type": "markdown",
      "metadata": {
        "id": "3E-kUih2ZZjV"
      },
      "source": [
        "CHECK VIF - MULTICOLLINEARITY"
      ]
    },
    {
      "cell_type": "code",
      "metadata": {
        "colab": {
          "base_uri": "https://localhost:8080/",
          "height": 359
        },
        "id": "la-hiveVZZOp",
        "outputId": "68053c6b-fc84-4f44-99fd-0c5f1544bcc0"
      },
      "source": [
        "# ELIMINATE > 10\n",
        "calc_vif(df)"
      ],
      "execution_count": 22,
      "outputs": [
        {
          "output_type": "execute_result",
          "data": {
            "text/html": [
              "<div>\n",
              "<style scoped>\n",
              "    .dataframe tbody tr th:only-of-type {\n",
              "        vertical-align: middle;\n",
              "    }\n",
              "\n",
              "    .dataframe tbody tr th {\n",
              "        vertical-align: top;\n",
              "    }\n",
              "\n",
              "    .dataframe thead th {\n",
              "        text-align: right;\n",
              "    }\n",
              "</style>\n",
              "<table border=\"1\" class=\"dataframe\">\n",
              "  <thead>\n",
              "    <tr style=\"text-align: right;\">\n",
              "      <th></th>\n",
              "      <th>variables</th>\n",
              "      <th>VIF</th>\n",
              "    </tr>\n",
              "  </thead>\n",
              "  <tbody>\n",
              "    <tr>\n",
              "      <th>0</th>\n",
              "      <td>SeniorCitizen</td>\n",
              "      <td>1.335437</td>\n",
              "    </tr>\n",
              "    <tr>\n",
              "      <th>1</th>\n",
              "      <td>Partner</td>\n",
              "      <td>2.818845</td>\n",
              "    </tr>\n",
              "    <tr>\n",
              "      <th>2</th>\n",
              "      <td>Dependents</td>\n",
              "      <td>1.907790</td>\n",
              "    </tr>\n",
              "    <tr>\n",
              "      <th>3</th>\n",
              "      <td>tenure</td>\n",
              "      <td>8.818067</td>\n",
              "    </tr>\n",
              "    <tr>\n",
              "      <th>4</th>\n",
              "      <td>Contract</td>\n",
              "      <td>2.921409</td>\n",
              "    </tr>\n",
              "    <tr>\n",
              "      <th>5</th>\n",
              "      <td>PaperlessBilling</td>\n",
              "      <td>2.844367</td>\n",
              "    </tr>\n",
              "    <tr>\n",
              "      <th>6</th>\n",
              "      <td>PaymentMethod</td>\n",
              "      <td>2.788658</td>\n",
              "    </tr>\n",
              "    <tr>\n",
              "      <th>7</th>\n",
              "      <td>MonthlyCharges</td>\n",
              "      <td>11.799679</td>\n",
              "    </tr>\n",
              "    <tr>\n",
              "      <th>8</th>\n",
              "      <td>TotalCharges</td>\n",
              "      <td>12.155085</td>\n",
              "    </tr>\n",
              "    <tr>\n",
              "      <th>9</th>\n",
              "      <td>Churn</td>\n",
              "      <td>1.777840</td>\n",
              "    </tr>\n",
              "  </tbody>\n",
              "</table>\n",
              "</div>"
            ],
            "text/plain": [
              "          variables        VIF\n",
              "0     SeniorCitizen   1.335437\n",
              "1           Partner   2.818845\n",
              "2        Dependents   1.907790\n",
              "3            tenure   8.818067\n",
              "4          Contract   2.921409\n",
              "5  PaperlessBilling   2.844367\n",
              "6     PaymentMethod   2.788658\n",
              "7    MonthlyCharges  11.799679\n",
              "8      TotalCharges  12.155085\n",
              "9             Churn   1.777840"
            ]
          },
          "metadata": {
            "tags": []
          },
          "execution_count": 22
        }
      ]
    },
    {
      "cell_type": "code",
      "metadata": {
        "id": "QMD0qOY0Y3A2"
      },
      "source": [
        "df.drop(columns=['TotalCharges', \"MonthlyCharges\"], inplace=True)"
      ],
      "execution_count": 23,
      "outputs": []
    },
    {
      "cell_type": "code",
      "metadata": {
        "colab": {
          "base_uri": "https://localhost:8080/",
          "height": 297
        },
        "id": "CW_5TXL2Y28t",
        "outputId": "cc840b65-72b8-4090-eeb0-e41ef5c8f36a"
      },
      "source": [
        "calc_vif(df)"
      ],
      "execution_count": 24,
      "outputs": [
        {
          "output_type": "execute_result",
          "data": {
            "text/html": [
              "<div>\n",
              "<style scoped>\n",
              "    .dataframe tbody tr th:only-of-type {\n",
              "        vertical-align: middle;\n",
              "    }\n",
              "\n",
              "    .dataframe tbody tr th {\n",
              "        vertical-align: top;\n",
              "    }\n",
              "\n",
              "    .dataframe thead th {\n",
              "        text-align: right;\n",
              "    }\n",
              "</style>\n",
              "<table border=\"1\" class=\"dataframe\">\n",
              "  <thead>\n",
              "    <tr style=\"text-align: right;\">\n",
              "      <th></th>\n",
              "      <th>variables</th>\n",
              "      <th>VIF</th>\n",
              "    </tr>\n",
              "  </thead>\n",
              "  <tbody>\n",
              "    <tr>\n",
              "      <th>0</th>\n",
              "      <td>SeniorCitizen</td>\n",
              "      <td>1.309364</td>\n",
              "    </tr>\n",
              "    <tr>\n",
              "      <th>1</th>\n",
              "      <td>Partner</td>\n",
              "      <td>2.796963</td>\n",
              "    </tr>\n",
              "    <tr>\n",
              "      <th>2</th>\n",
              "      <td>Dependents</td>\n",
              "      <td>1.878618</td>\n",
              "    </tr>\n",
              "    <tr>\n",
              "      <th>3</th>\n",
              "      <td>tenure</td>\n",
              "      <td>2.679617</td>\n",
              "    </tr>\n",
              "    <tr>\n",
              "      <th>4</th>\n",
              "      <td>Contract</td>\n",
              "      <td>2.537744</td>\n",
              "    </tr>\n",
              "    <tr>\n",
              "      <th>5</th>\n",
              "      <td>PaperlessBilling</td>\n",
              "      <td>2.415923</td>\n",
              "    </tr>\n",
              "    <tr>\n",
              "      <th>6</th>\n",
              "      <td>PaymentMethod</td>\n",
              "      <td>2.375788</td>\n",
              "    </tr>\n",
              "    <tr>\n",
              "      <th>7</th>\n",
              "      <td>Churn</td>\n",
              "      <td>1.540760</td>\n",
              "    </tr>\n",
              "  </tbody>\n",
              "</table>\n",
              "</div>"
            ],
            "text/plain": [
              "          variables       VIF\n",
              "0     SeniorCitizen  1.309364\n",
              "1           Partner  2.796963\n",
              "2        Dependents  1.878618\n",
              "3            tenure  2.679617\n",
              "4          Contract  2.537744\n",
              "5  PaperlessBilling  2.415923\n",
              "6     PaymentMethod  2.375788\n",
              "7             Churn  1.540760"
            ]
          },
          "metadata": {
            "tags": []
          },
          "execution_count": 24
        }
      ]
    },
    {
      "cell_type": "markdown",
      "metadata": {
        "id": "icsw3-BeaGaD"
      },
      "source": [
        "Assumption of Continuous IVs being Linearly Related to the Log Odds"
      ]
    },
    {
      "cell_type": "code",
      "metadata": {
        "colab": {
          "base_uri": "https://localhost:8080/",
          "height": 295
        },
        "id": "vnparL-GZyD7",
        "outputId": "665b54f1-43e4-49ba-b957-10974927c45d"
      },
      "source": [
        "gp = sns.regplot(x='SeniorCitizen', y='Churn', data=df, logistic= True).set_title(\"Log Odds Linear Plot\")\n",
        "gp.figure.savefig(\"log lin.png\")"
      ],
      "execution_count": 25,
      "outputs": [
        {
          "output_type": "display_data",
          "data": {
            "image/png": "[encoded data removed]",
            "text/plain": [
              "<Figure size 432x288 with 1 Axes>"
            ]
          },
          "metadata": {
            "tags": [],
            "needs_background": "light"
          }
        }
      ]
    },
    {
      "cell_type": "code",
      "metadata": {
        "colab": {
          "base_uri": "https://localhost:8080/",
          "height": 295
        },
        "id": "ILp0aB-CaKN0",
        "outputId": "4023603b-030e-4f9b-cc7b-6a0f55c42bb3"
      },
      "source": [
        "gp = sns.regplot(x='Partner', y='Churn', data=df, logistic= True).set_title(\"Log Odds Linear Plot\")\n",
        "gp.figure.savefig(\"log lin.png\")"
      ],
      "execution_count": 26,
      "outputs": [
        {
          "output_type": "display_data",
          "data": {
            "image/png": "[encoded data removed]",
            "text/plain": [
              "<Figure size 432x288 with 1 Axes>"
            ]
          },
          "metadata": {
            "tags": [],
            "needs_background": "light"
          }
        }
      ]
    },
    {
      "cell_type": "code",
      "metadata": {
        "colab": {
          "base_uri": "https://localhost:8080/",
          "height": 295
        },
        "id": "pUuPUpg2aO5S",
        "outputId": "63f556f5-12e0-490f-bada-00283c48d1f2"
      },
      "source": [
        "gp = sns.regplot(x= 'Dependents', y='Churn', data=df, logistic= True).set_title(\"Log Odds Linear Plot\")\n",
        "gp.figure.savefig(\"log lin.png\")"
      ],
      "execution_count": 27,
      "outputs": [
        {
          "output_type": "display_data",
          "data": {
            "image/png": "[encoded data removed]",
            "text/plain": [
              "<Figure size 432x288 with 1 Axes>"
            ]
          },
          "metadata": {
            "tags": [],
            "needs_background": "light"
          }
        }
      ]
    },
    {
      "cell_type": "code",
      "metadata": {
        "colab": {
          "base_uri": "https://localhost:8080/",
          "height": 295
        },
        "id": "L2awTWFEaUqE",
        "outputId": "573f7257-c44d-4e8e-d6df-956bf92fa74a"
      },
      "source": [
        "gp = sns.regplot(x='tenure', y='Churn', data=df, logistic= True).set_title(\"Log Odds Linear Plot\")\n",
        "gp.figure.savefig(\"log lin.png\")"
      ],
      "execution_count": 28,
      "outputs": [
        {
          "output_type": "display_data",
          "data": {
            "image/png": "[encoded data removed]",
            "text/plain": [
              "<Figure size 432x288 with 1 Axes>"
            ]
          },
          "metadata": {
            "tags": [],
            "needs_background": "light"
          }
        }
      ]
    },
    {
      "cell_type": "code",
      "metadata": {
        "colab": {
          "base_uri": "https://localhost:8080/",
          "height": 295
        },
        "id": "e31nEq18aXYv",
        "outputId": "da942493-40d4-45b5-8ae9-4ddb009191ee"
      },
      "source": [
        "gp = sns.regplot(x='Contract', y='Churn', data=df, logistic= True).set_title(\"Log Odds Linear Plot\")\n",
        "gp.figure.savefig(\"log lin.png\")"
      ],
      "execution_count": 29,
      "outputs": [
        {
          "output_type": "display_data",
          "data": {
            "image/png": "[encoded data removed]",
            "text/plain": [
              "<Figure size 432x288 with 1 Axes>"
            ]
          },
          "metadata": {
            "tags": [],
            "needs_background": "light"
          }
        }
      ]
    },
    {
      "cell_type": "code",
      "metadata": {
        "colab": {
          "base_uri": "https://localhost:8080/",
          "height": 295
        },
        "id": "a7hH30n1aZl4",
        "outputId": "f1708e51-e010-4d99-f838-08c216d4d138"
      },
      "source": [
        "gp = sns.regplot(x='PaperlessBilling', y='Churn', data=df, logistic= True).set_title(\"Log Odds Linear Plot\")\n",
        "gp.figure.savefig(\"log lin.png\")"
      ],
      "execution_count": 30,
      "outputs": [
        {
          "output_type": "display_data",
          "data": {
            "image/png": "[encoded data removed]",
            "text/plain": [
              "<Figure size 432x288 with 1 Axes>"
            ]
          },
          "metadata": {
            "tags": [],
            "needs_background": "light"
          }
        }
      ]
    },
    {
      "cell_type": "code",
      "metadata": {
        "colab": {
          "base_uri": "https://localhost:8080/",
          "height": 295
        },
        "id": "UOPIfVQMacwH",
        "outputId": "c501e223-d5a9-4a4d-aef4-4631c17fc54b"
      },
      "source": [
        "gp = sns.regplot(x='PaymentMethod', y='Churn', data=df, logistic= True).set_title(\"Log Odds Linear Plot\")\n",
        "gp.figure.savefig(\"log lin.png\")"
      ],
      "execution_count": 31,
      "outputs": [
        {
          "output_type": "display_data",
          "data": {
            "image/png": "[encoded data removed]",
            "text/plain": [
              "<Figure size 432x288 with 1 Axes>"
            ]
          },
          "metadata": {
            "tags": [],
            "needs_background": "light"
          }
        }
      ]
    },
    {
      "cell_type": "markdown",
      "metadata": {
        "id": "EEpI8MAAafTi"
      },
      "source": [
        "MODEL LOGISTIC REGRESSION"
      ]
    },
    {
      "cell_type": "code",
      "metadata": {
        "id": "9wzUrl1saero"
      },
      "source": [
        "train, test = train_test_split(df, test_size = 0.2, random_state=42)\n",
        "X_LR = train[[ 'SeniorCitizen', 'Partner', 'Dependents', 'tenure', 'Contract', 'PaperlessBilling', 'PaymentMethod']]\n",
        "y_LR = train['Churn']\n",
        "X_LR_test = test[['SeniorCitizen', 'Partner', 'Dependents', 'tenure', 'Contract', 'PaperlessBilling', 'PaymentMethod']]\n",
        "y_LR_test = test['Churn']\n",
        "LR_model = LogisticRegression()\n",
        "grid_values = {'penalty': ['l1', 'l2', 'elasticnet', 'none'],'C':[0.001,.009,0.01,.09,1,5,10,25, 50, 100]}\n",
        "grid_clf_acc = GridSearchCV(LR_model, param_grid = grid_values,scoring = 'recall')\n",
        "grid_clf_acc.fit(X_LR, y_LR)\n",
        "\n",
        "grid_clf_acc.best_params_"
      ],
      "execution_count": null,
      "outputs": []
    },
    {
      "cell_type": "code",
      "metadata": {
        "colab": {
          "base_uri": "https://localhost:8080/"
        },
        "id": "2VXt3Q8kaopq",
        "outputId": "b9ac4589-095e-4b98-96a9-e7b8db744121"
      },
      "source": [
        "LR_model = LogisticRegression(solver = 'liblinear', class_weight='balanced', C=25, penalty = 'l1').fit(X_LR, y_LR, sample_weight=None)\n",
        "y_pred_LR = LR_model.predict(X_LR_test)\n",
        "print('Accuracy Score : ' + str(accuracy_score(y_LR_test,y_pred_LR)))\n",
        "print('Precision Score : ' + str(precision_score(y_LR_test,y_pred_LR)))\n",
        "print('Recall Score : ' + str(recall_score(y_LR_test,y_pred_LR)))\n",
        "print('F1 Score : ' + str(f1_score(y_LR_test,y_pred_LR)))\n",
        "\n",
        "#Dummy Classifier Confusion matrix\n",
        "cm= confusion_matrix(y_LR_test,y_pred_LR)\n",
        "print('Confusion Matrix : \\n' + str(cm))"
      ],
      "execution_count": 33,
      "outputs": [
        {
          "output_type": "stream",
          "text": [
            "Accuracy Score : 0.67779632721202\n",
            "Precision Score : 0.42125237191650855\n",
            "Recall Score : 0.7326732673267327\n",
            "F1 Score : 0.5349397590361447\n",
            "Confusion Matrix : \n",
            "[[590 305]\n",
            " [ 81 222]]\n"
          ],
          "name": "stdout"
        }
      ]
    },
    {
      "cell_type": "code",
      "metadata": {
        "id": "wHV3vNjkbAxv"
      },
      "source": [
        ""
      ],
      "execution_count": 33,
      "outputs": []
    }
  ]
}